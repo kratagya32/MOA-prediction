{
 "cells": [
  {
   "cell_type": "code",
   "execution_count": 2,
   "metadata": {},
   "outputs": [],
   "source": [
    "import matplotlib.pyplot as plt\n",
    "import seaborn as sns\n",
    "%matplotlib inline"
   ]
  },
  {
   "cell_type": "code",
   "execution_count": 4,
   "metadata": {},
   "outputs": [],
   "source": [
    "class datainfo():\n",
    "    def __init__(self,data):\n",
    "        self.data=data\n",
    "        \n",
    "    def data_shape(self):\n",
    "        print(f\"Rows: {self.data.shape[0]} and columns: {self.data.shape[1]}\")\n",
    "        \n",
    "    def data_head(self):\n",
    "        return self.data.head()\n",
    "    \n",
    "    def data_missing(self):\n",
    "        columns = self.data.columns\n",
    "        counter=0\n",
    "        for col in columns:\n",
    "            count = self.data[col].isna().sum()\n",
    "            if(count!=0):\n",
    "                counter=counter+1\n",
    "                print(f\"No. of missing value for column {col} :- {count}\")\n",
    "        if(counter==0):\n",
    "            print(\"No missing data\")\n",
    "            \n",
    "    def describe_data(self,columns=''):\n",
    "        if(len(columns)==0):\n",
    "            return self.data.describe()\n",
    "        else:\n",
    "            return self.data[columns].describe()\n",
    "        \n",
    "            \n",
    "    \n",
    "        "
   ]
  },
  {
   "cell_type": "code",
   "execution_count": 5,
   "metadata": {},
   "outputs": [],
   "source": [
    "def binary_sparse(data):\n",
    "    count = data.isin([1]).sum().sum()\n",
    "    print(f\"Percentage of non-zero target class values: {(count/(data.shape[0]*data.shape[1]))*100}%\")\n",
    "    "
   ]
  },
  {
   "cell_type": "code",
   "execution_count": 6,
   "metadata": {},
   "outputs": [],
   "source": [
    "def count_plot(fv_data,fv_xcol,fv_hue=None):\n",
    "    sns.countplot(x =fv_xcol,hue=fv_hue, data = fv_data) \n",
    "    plt.title(f\"Countplot for {fv_xcol}\")\n",
    "    plt.xlabel(fv_xcol)\n",
    "    plt.ylabel('Count')"
   ]
  },
  {
   "cell_type": "code",
   "execution_count": 7,
   "metadata": {},
   "outputs": [],
   "source": [
    "def dist_plot(data,column,nrows=1,ncols=1):\n",
    "    fig, axes = plt.subplots(ncols=ncols, nrows=nrows)\n",
    "    if(nrows==1 and ncols==1):\n",
    "        (sns.distplot(data[column], hist=False,\n",
    "                  kde=True,kde_kws = {'shade': True, 'linewidth': 3}))\n",
    "        plt.title(f\"Distribution for {column}\")\n",
    "        plt.xlabel(column)\n",
    "    else: \n",
    "        for i, ax in zip(column, axes.flat):\n",
    "            (sns.distplot(data[i], hist=False,\n",
    "                      kde=True,kde_kws = {'shade': True, 'linewidth': 3},ax=ax))\n",
    "            ax.set_title(f\"Distribution for {i}\")\n",
    "            plt.xlabel(i)\n",
    "    fig.text(-0.1, 0.5, 'Density', ha='center', va='center', rotation='vertical')  \n",
    "    fig.tight_layout()\n",
    "    plt.show()\n",
    "\n",
    "    "
   ]
  },
  {
   "cell_type": "code",
   "execution_count": 8,
   "metadata": {},
   "outputs": [],
   "source": [
    "def barh_percentage(data):\n",
    "    fig, ax = plt.subplots()\n",
    "\n",
    "    percent = data.values.ravel()/(data.sum(axis=0)[0])*100\n",
    "\n",
    "    new_labels = [i+'  {:.2f}%'.format(j) for i, j in zip(data.index, percent)]\n",
    "\n",
    "    plt.barh(data.index, data.values.ravel(), color='blue', edgecolor='red')\n",
    "    plt.yticks(range(len(data.values)), new_labels)\n",
    "    plt.tight_layout()\n",
    "\n",
    "    for spine in ax.spines.values():\n",
    "        spine.set_visible(False)\n",
    "\n",
    "    ax.axes.get_xaxis().set_visible(False)\n",
    "    ax.tick_params(axis=\"y\", left=False)\n",
    "    plt.show()"
   ]
  },
  {
   "cell_type": "code",
   "execution_count": 9,
   "metadata": {},
   "outputs": [],
   "source": [
    "def bar_plot(df,x_col,y_col,fv_hue=None):\n",
    "    sns.barplot(x=x_col, y=y_col, hue=fv_hue, data=df)\n",
    "    plt.tight_layout()"
   ]
  },
  {
   "cell_type": "code",
   "execution_count": 10,
   "metadata": {},
   "outputs": [],
   "source": [
    "def heatmap(data,x_shape=10,y_shape=10):\n",
    "    fig, ax = plt.subplots(figsize=(x_shape,y_shape))   \n",
    "    corr = data.corr()\n",
    "    ax = sns.heatmap(\n",
    "        corr, \n",
    "        vmin=-1, vmax=1, center=0,\n",
    "        cmap=sns.diverging_palette(20, 220, n=200),\n",
    "        square=True\n",
    "    )\n",
    "    ax.set_xticklabels(\n",
    "        ax.get_xticklabels(),\n",
    "        rotation=45,\n",
    "        horizontalalignment='right'\n",
    "    )"
   ]
  },
  {
   "cell_type": "code",
   "execution_count": 11,
   "metadata": {},
   "outputs": [],
   "source": [
    "def scatter_plot(df,x_col,y_col,fv_hue=None):\n",
    "    sns.scatterplot(x=x_col, y=y_col, hue=fv_hue, data=df)\n",
    "    plt.tight_layout()"
   ]
  },
  {
   "cell_type": "code",
   "execution_count": null,
   "metadata": {},
   "outputs": [],
   "source": []
  }
 ],
 "metadata": {
  "kernelspec": {
   "display_name": "Python 3",
   "language": "python",
   "name": "python3"
  },
  "language_info": {
   "codemirror_mode": {
    "name": "ipython",
    "version": 3
   },
   "file_extension": ".py",
   "mimetype": "text/x-python",
   "name": "python",
   "nbconvert_exporter": "python",
   "pygments_lexer": "ipython3",
   "version": "3.7.6"
  }
 },
 "nbformat": 4,
 "nbformat_minor": 4
}
