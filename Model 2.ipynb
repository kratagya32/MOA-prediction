{
 "cells": [
  {
   "cell_type": "code",
   "execution_count": 1,
   "metadata": {},
   "outputs": [],
   "source": [
    "import numpy as np\n",
    "import pandas as pd\n",
    "\n",
    "import tensorflow as tf\n",
    "import tensorflow.keras.layers as L\n",
    "import tensorflow.keras.models as M\n",
    "import tensorflow.keras.backend as K\n",
    "\n",
    "from tensorflow.keras.callbacks import ReduceLROnPlateau, ModelCheckpoint\n",
    "from tensorflow.keras.callbacks import EarlyStopping, LearningRateScheduler\n",
    "from tensorflow.keras.losses import BinaryCrossentropy\n",
    "import tensorflow_addons as tfa\n",
    "\n",
    "from sklearn.feature_selection import VarianceThreshold\n",
    "from sklearn.preprocessing import QuantileTransformer\n",
    "from sklearn.model_selection import KFold\n",
    "from iterstrat.ml_stratifiers import MultilabelStratifiedKFold\n",
    "from sklearn.metrics import log_loss\n",
    "from sklearn import preprocessing\n",
    "\n",
    "from sklearn.decomposition import PCA, TruncatedSVD\n",
    "\n",
    "from tqdm.notebook import tqdm\n",
    "\n",
    "import math"
   ]
  },
  {
   "cell_type": "code",
   "execution_count": 2,
   "metadata": {},
   "outputs": [],
   "source": [
    "# Load data\n",
    "train_feature = pd.read_csv(\"../../Data/Mechanisms of Action (MoA) Prediction/train_features.csv\")\n",
    "test_feature = pd.read_csv(\"../../Data/Mechanisms of Action (MoA) Prediction/test_features.csv\")\n",
    "train_targets_scored = pd.read_csv(\"../../Data/Mechanisms of Action (MoA) Prediction/train_targets_scored.csv\")\n",
    "train_targets_nonscored = pd.read_csv(\"../../Data/Mechanisms of Action (MoA) Prediction/train_targets_nonscored.csv\")\n",
    "sub = pd.read_csv('../../Data/Mechanisms of Action (MoA) Prediction/sample_submission.csv')\n",
    "data = train_feature.append(test_feature)"
   ]
  },
  {
   "cell_type": "code",
   "execution_count": null,
   "metadata": {},
   "outputs": [],
   "source": []
  },
  {
   "cell_type": "code",
   "execution_count": 3,
   "metadata": {},
   "outputs": [],
   "source": [
    "import random, os\n",
    "def seed_everything(seed=42):\n",
    "    random.seed(seed)\n",
    "    os.environ['PYTHONHASHSEED'] = str(seed)\n",
    "    np.random.seed(seed)\n",
    "    tf.random.set_seed(seed)\n",
    "\n",
    "    \n",
    "seed_everything(seed=1)"
   ]
  },
  {
   "cell_type": "code",
   "execution_count": 4,
   "metadata": {},
   "outputs": [],
   "source": [
    "def scaler_ss(train,test):\n",
    "    \n",
    "    features = train.columns[2:]\n",
    "    scaler = preprocessing.StandardScaler()\n",
    "    scaler.fit(pd.concat([train[features],test[features]],axis=0))\n",
    "    train[features] = scaler.transform(train[features])\n",
    "    test[features] = scaler.transform(test[features])\n",
    "    \n",
    "    return train, test, features"
   ]
  },
  {
   "cell_type": "code",
   "execution_count": 5,
   "metadata": {},
   "outputs": [],
   "source": [
    "def scaler_mm(train,test):\n",
    "    \n",
    "    features = train.columns[2:]\n",
    "    scaler = preprocessing.MinMaxScaler()\n",
    "    scaler.fit(pd.concat([train[features],test[features]],axis=0))\n",
    "    train[features] = scaler.transform(train[features])\n",
    "    test[features] = scaler.transform(test[features])\n",
    "    \n",
    "    return train, test, features"
   ]
  },
  {
   "cell_type": "code",
   "execution_count": 6,
   "metadata": {},
   "outputs": [],
   "source": [
    "GENES = [col for col in train_feature.columns  if col.startswith('g-')]\n",
    "CELLS = [col for col in train_feature.columns  if col.startswith('c-')]"
   ]
  },
  {
   "cell_type": "code",
   "execution_count": 7,
   "metadata": {},
   "outputs": [
    {
     "data": {
      "application/vnd.jupyter.widget-view+json": {
       "model_id": "bb5167076fec457fbab37aeb874afe7e",
       "version_major": 2,
       "version_minor": 0
      },
      "text/plain": [
       "HBox(children=(FloatProgress(value=0.0, max=872.0), HTML(value='')))"
      ]
     },
     "metadata": {},
     "output_type": "display_data"
    },
    {
     "name": "stdout",
     "output_type": "stream",
     "text": [
      "\n"
     ]
    }
   ],
   "source": [
    "for col in tqdm(GENES+CELLS):\n",
    "    transformer = QuantileTransformer(n_quantiles=250, random_state=0,\n",
    "                                      output_distribution='normal')\n",
    "    vec_len_train = len(train_feature[col].values)\n",
    "    vec_len_test = len(test_feature[col].values)\n",
    "    input_vec_train = train_feature[col].values.reshape(vec_len_train,1)\n",
    "    input_vec_test = test_feature[col].values.reshape(vec_len_test,1)\n",
    "    transformer.fit(input_vec_train)\n",
    "    train_feature[col] = transformer.transform(input_vec_train).reshape(1,vec_len_train)[0]\n",
    "    test_feature[col] = transformer.transform(input_vec_test).reshape(1,vec_len_test)[0]\n",
    "    "
   ]
  },
  {
   "cell_type": "code",
   "execution_count": 8,
   "metadata": {},
   "outputs": [],
   "source": [
    "# GENES PCA\n",
    "n_comp = 660\n",
    "data = pd.concat([train_feature[GENES],test_feature[GENES]], axis=0)\n",
    "data_1 = (PCA(n_components=n_comp, random_state=42).fit_transform(data[GENES]))\n",
    "train_1 = data_1[:train_feature.shape[0]]\n",
    "test_1 = data_1[-test_feature.shape[0]:]\n",
    "\n",
    "train_1 = pd.DataFrame(train_1, columns=[f'PCA-G{i}' for i in range(n_comp)])\n",
    "test_1 = pd.DataFrame(test_1, columns=[f'PCA-G{i}' for i in range(n_comp)])\n",
    "\n",
    "train_feature = pd.concat((train_feature, train_1), axis=1)\n",
    "test_feature = pd.concat((test_feature, test_1), axis=1)"
   ]
  },
  {
   "cell_type": "code",
   "execution_count": 9,
   "metadata": {},
   "outputs": [],
   "source": [
    "# CELLS PCA\n",
    "n_comp = 66\n",
    "data = pd.concat([train_feature[CELLS],test_feature[CELLS]], axis=0)\n",
    "data_1 = (PCA(n_components=n_comp, random_state=42).fit_transform(data[CELLS]))\n",
    "train_1 = data_1[:train_feature.shape[0]]\n",
    "test_1 = data_1[-test_feature.shape[0]:]\n",
    "\n",
    "train_1 = pd.DataFrame(train_1, columns=[f'PCA-C{i}' for i in range(n_comp)])\n",
    "test_1 = pd.DataFrame(test_1, columns=[f'PCA-C{i}' for i in range(n_comp)])\n",
    "\n",
    "train_feature = pd.concat((train_feature, train_1), axis=1)\n",
    "test_feature = pd.concat((test_feature, test_1), axis=1)"
   ]
  },
  {
   "cell_type": "code",
   "execution_count": 10,
   "metadata": {},
   "outputs": [],
   "source": [
    "# GENES SVD\n",
    "n_comp = 550\n",
    "data = pd.concat([train_feature[GENES],test_feature[GENES]], axis=0)\n",
    "data_1 = (TruncatedSVD(n_components=n_comp, random_state=42).fit_transform(data[GENES]))\n",
    "train_1 = data_1[:train_feature.shape[0]]\n",
    "test_1 = data_1[-test_feature.shape[0]:]\n",
    "\n",
    "train_1 = pd.DataFrame(train_1, columns=[f'SVD-G{i}' for i in range(n_comp)])\n",
    "test_1 = pd.DataFrame(test_1, columns=[f'SVD-G{i}' for i in range(n_comp)])\n",
    "\n",
    "train_feature = pd.concat((train_feature, train_1), axis=1)\n",
    "test_feature = pd.concat((test_feature, test_1), axis=1)"
   ]
  },
  {
   "cell_type": "code",
   "execution_count": 11,
   "metadata": {},
   "outputs": [],
   "source": [
    "# CELLS SVD\n",
    "n_comp = 55\n",
    "data = pd.concat([train_feature[CELLS],test_feature[CELLS]], axis=0)\n",
    "data_1 = (TruncatedSVD(n_components=n_comp, random_state=42).fit_transform(data[CELLS]))\n",
    "train_1 = data_1[:train_feature.shape[0]]\n",
    "test_1 = data_1[-test_feature.shape[0]:]\n",
    "\n",
    "train_1 = pd.DataFrame(train_1, columns=[f'SVD-C{i}' for i in range(n_comp)])\n",
    "test_1 = pd.DataFrame(test_1, columns=[f'SVD-C{i}' for i in range(n_comp)])\n",
    "\n",
    "train_feature = pd.concat((train_feature, train_1), axis=1)\n",
    "test_feature = pd.concat((test_feature, test_1), axis=1)"
   ]
  },
  {
   "cell_type": "code",
   "execution_count": 12,
   "metadata": {},
   "outputs": [],
   "source": [
    "def c_squared(train,test):\n",
    "    features = list(train.columns[776:876])\n",
    "    for _features in tqdm(features):\n",
    "        train[f'{_features}_squared'] = train[_features]**2\n",
    "        test[f'{_features}_squared'] = test[_features]**2\n",
    "        \n",
    "    return train, test\n",
    "        "
   ]
  },
  {
   "cell_type": "code",
   "execution_count": 13,
   "metadata": {},
   "outputs": [
    {
     "data": {
      "application/vnd.jupyter.widget-view+json": {
       "model_id": "7a4d07e9350f4250851b19a68695c67d",
       "version_major": 2,
       "version_minor": 0
      },
      "text/plain": [
       "HBox(children=(FloatProgress(value=0.0), HTML(value='')))"
      ]
     },
     "metadata": {},
     "output_type": "display_data"
    },
    {
     "name": "stdout",
     "output_type": "stream",
     "text": [
      "\n"
     ]
    }
   ],
   "source": [
    "train_feature, test_feature = c_squared(train_feature, test_feature)"
   ]
  },
  {
   "cell_type": "code",
   "execution_count": 14,
   "metadata": {},
   "outputs": [],
   "source": [
    "def c_cubed(train,test):\n",
    "    features = list(train.columns[776:876])\n",
    "    for _features in tqdm(features):\n",
    "        train[f'{_features}_cubed'] = train[_features]**3\n",
    "        test[f'{_features}_cubed'] = test[_features]**3\n",
    "        \n",
    "    return train, test\n",
    "        "
   ]
  },
  {
   "cell_type": "code",
   "execution_count": 15,
   "metadata": {},
   "outputs": [
    {
     "data": {
      "application/vnd.jupyter.widget-view+json": {
       "model_id": "4b24d52797134f80a2465807d9d0f0a9",
       "version_major": 2,
       "version_minor": 0
      },
      "text/plain": [
       "HBox(children=(FloatProgress(value=0.0), HTML(value='')))"
      ]
     },
     "metadata": {},
     "output_type": "display_data"
    },
    {
     "name": "stdout",
     "output_type": "stream",
     "text": [
      "\n"
     ]
    }
   ],
   "source": [
    "train_feature, test_feature = c_cubed(train_feature, test_feature)"
   ]
  },
  {
   "cell_type": "code",
   "execution_count": 16,
   "metadata": {},
   "outputs": [],
   "source": [
    "def c_sqrt(train,test):\n",
    "    features = list(train.columns[776:876])\n",
    "    for _features in tqdm(features):\n",
    "        train[f'{_features}_sqrt'] = train[_features]**0.5\n",
    "        test[f'{_features}_sqrt'] = test[_features]**0.5\n",
    "        \n",
    "    return train, test\n",
    "        "
   ]
  },
  {
   "cell_type": "code",
   "execution_count": 17,
   "metadata": {},
   "outputs": [],
   "source": [
    "def scaler_rs(train,test):\n",
    "    features = list(train.columns[4:])\n",
    "    data = pd.concat([train[features], test[features]],axis=0)\n",
    "    scaler = preprocessing.RobustScaler()\n",
    "    scaler.fit(data)\n",
    "    train[features] = scaler.transform(train[features])\n",
    "    test[features] = scaler.transform(test[features])\n",
    "    \n",
    "    return train, test, features"
   ]
  },
  {
   "cell_type": "code",
   "execution_count": 18,
   "metadata": {},
   "outputs": [
    {
     "name": "stdout",
     "output_type": "stream",
     "text": [
      "New Train/Test Features Dataset Contains [2407] Features.\n"
     ]
    }
   ],
   "source": [
    "print(f'New Train/Test Features Dataset Contains [{train_feature.shape[1]}] Features.')"
   ]
  },
  {
   "cell_type": "code",
   "execution_count": 19,
   "metadata": {},
   "outputs": [],
   "source": [
    "thresold = 0.98\n",
    "var_thres = VarianceThreshold(thresold)\n",
    "data = train_feature.append(test_feature)\n",
    "data_transformed = var_thres.fit_transform(data.iloc[:,4:])\n",
    "\n",
    "train_feature_transformed = data_transformed[:train_feature.shape[0]]\n",
    "test_feature_transformed = data_transformed[-test_feature.shape[0]:]\n",
    "\n",
    "\n",
    "train_feature = pd.DataFrame(train_feature[['sig_id','cp_type','cp_time','cp_dose']]\n",
    "                             .values.reshape(-1, 4),columns=['sig_id','cp_type','cp_time','cp_dose'])\n",
    "\n",
    "train_feature = pd.concat([train_feature, pd.DataFrame(train_feature_transformed)]\n",
    "                          , axis=1)\n",
    "\n",
    "test_feature = pd.DataFrame(test_feature[['sig_id','cp_type','cp_time','cp_dose']]\n",
    "                            .values.reshape(-1, 4),columns=['sig_id','cp_type','cp_time','cp_dose'])\n",
    "\n",
    "test_feature = pd.concat([test_feature, pd.DataFrame(test_feature_transformed)]\n",
    "                          , axis=1)\n",
    "\n"
   ]
  },
  {
   "cell_type": "code",
   "execution_count": 20,
   "metadata": {},
   "outputs": [
    {
     "name": "stdout",
     "output_type": "stream",
     "text": [
      "Variance Threshold Select [1312] Features From [2407]]\n"
     ]
    }
   ],
   "source": [
    "print(f'Variance Threshold Select [{train_feature.shape[1]}] Features From [2407]]')"
   ]
  },
  {
   "cell_type": "code",
   "execution_count": 21,
   "metadata": {},
   "outputs": [],
   "source": [
    "train = train_feature.copy()\n",
    "target = train_targets_scored.copy()\n",
    "test = test_feature.copy()\n",
    "\n",
    "target = target[train['cp_type']!='ctl_vehicle'].reset_index(drop=True)\n",
    "target.drop(['sig_id'], axis=1, inplace=True)\n",
    "\n",
    "train = train[train['cp_type']!='ctl_vehicle'].reset_index(drop=True)\n",
    "train.drop(['sig_id', 'cp_type'], axis=1, inplace=True)\n",
    "\n",
    "test.drop(['sig_id', 'cp_type'], axis=1, inplace=True)"
   ]
  },
  {
   "cell_type": "code",
   "execution_count": 22,
   "metadata": {},
   "outputs": [],
   "source": [
    "# data encoding\n",
    "def preprocess(df):\n",
    "#   df.loc[:,'cp_type'] =  df.loc[:,'cp_type'].map({'trt_cp' : 0,'ctl_vehicle' : 1})\n",
    "#     df.drop(['cp_type'],axis=1,inplace=True)\n",
    "    df.loc[:,'cp_dose'] = df.loc[:,'cp_dose'].map({'D1':0,'D2':1})\n",
    "#     df.loc[:,'cp_time'] = df.loc[:,'cp_time'].map({24:0,48:1,72:2})\n",
    "    df = pd.get_dummies(df,columns=['cp_dose','cp_time'])\n",
    "#     del df['sig_id']\n",
    "    return df\n",
    "\n",
    "train = preprocess(train)\n",
    "test = preprocess(test)\n",
    "data = train.append(test)"
   ]
  },
  {
   "cell_type": "code",
   "execution_count": 23,
   "metadata": {},
   "outputs": [
    {
     "data": {
      "text/plain": [
       "(0.005417677156525093,\n",
       " 3.7962507513874515,\n",
       " -140.55427154590373,\n",
       " 140.55427155383887)"
      ]
     },
     "execution_count": 23,
     "metadata": {},
     "output_type": "execute_result"
    }
   ],
   "source": [
    "np.mean(train.values), np.std(train.values), np.min(train.values), np.max(train.values)"
   ]
  },
  {
   "cell_type": "code",
   "execution_count": 24,
   "metadata": {},
   "outputs": [],
   "source": [
    "somthing_rate = 1e-3\n",
    "P_MIN = somthing_rate\n",
    "P_MAX = 1 - P_MIN\n",
    "\n",
    "def loss_fn(yt, yp):\n",
    "    yp = np.clip(yp, P_MIN, P_MAX)\n",
    "    return log_loss(yt, yp, labels=[0,1])\n",
    "\n",
    "NUM_FEATURES = train.shape[1]"
   ]
  },
  {
   "cell_type": "code",
   "execution_count": 25,
   "metadata": {},
   "outputs": [],
   "source": [
    "def create_model(num_columns, hidden_layers=1500, SEED=None):\n",
    "    model = tf.keras.Sequential([tf.keras.layers.Input(num_columns)])\n",
    "    initializer = tf.keras.initializers.VarianceScaling(scale=math.sqrt(5)\n",
    "                                                        , mode='fan_in'\n",
    "                                                        , distribution='uniform'\n",
    "                                                        , seed=SEED)#math.sqrt(6. / n) \n",
    "    \n",
    "    model.add(tf.keras.layers.BatchNormalization())\n",
    "    #model.add(tf.keras.layers.Dropout(0.4))\n",
    "    model.add(tfa.layers.WeightNormalization(tf.keras.layers.Dense(hidden_layers\n",
    "                                                                   , kernel_initializer=initializer)))\n",
    "    #model.add(tf.keras.layers.Activation('elu'))\n",
    "    model.add(tf.keras.layers.LeakyReLU())\n",
    "    \n",
    "    model.add(tf.keras.layers.BatchNormalization())\n",
    "    model.add(tf.keras.layers.Dropout(0.2654321))\n",
    "    model.add(tfa.layers.WeightNormalization(tf.keras.layers.Dense(750\n",
    "                                                                   , kernel_initializer=initializer)))\n",
    "    #model.add(tf.keras.layers.Activation('elu'))\n",
    "    model.add(tf.keras.layers.LeakyReLU())\n",
    "\n",
    "    #============ Final Layer =================\n",
    "    model.add(tf.keras.layers.BatchNormalization())\n",
    "    model.add(tf.keras.layers.Dropout(0.2678923456789))\n",
    "    model.add(tfa.layers.WeightNormalization(tf.keras.layers.Dense(206\n",
    "                                                                   , kernel_initializer='uniform')))\n",
    "    model.add(tf.keras.layers.Activation('sigmoid'))\n",
    "    \n",
    "    tfa_opt = tfa.optimizers.Lookahead(tfa.optimizers.AdamW(lr = 1e-3, weight_decay = 1e-5), sync_period=10)\n",
    "    tf_opt = tfa.optimizers.Lookahead(tf.keras.optimizers.Adam(learning_rate=1e-3, epsilon=1e-7), sync_period=10)\n",
    "    \n",
    "    model.compile(optimizer=tfa_opt, \n",
    "                  loss=BinaryCrossentropy(),\n",
    "                  metrics=BinaryCrossentropy(label_smoothing=somthing_rate)\n",
    "                  )\n",
    "    return model"
   ]
  },
  {
   "cell_type": "code",
   "execution_count": 26,
   "metadata": {},
   "outputs": [
    {
     "name": "stdout",
     "output_type": "stream",
     "text": [
      "Top feats length: 1313\n"
     ]
    }
   ],
   "source": [
    "# Use All feats as top feats\n",
    "top_feats = [i for i in range(train.shape[1])]\n",
    "print(\"Top feats length:\",len(top_feats))"
   ]
  },
  {
   "cell_type": "code",
   "execution_count": 27,
   "metadata": {},
   "outputs": [
    {
     "data": {
      "text/plain": [
       "(0.021328133, 0.019364549)"
      ]
     },
     "execution_count": 27,
     "metadata": {},
     "output_type": "execute_result"
    }
   ],
   "source": [
    "#Test min and max weights range\n",
    "initializer = tf.keras.initializers.VarianceScaling(scale=0.2, mode='fan_in', distribution='uniform', seed=None) #math.sqrt(3 * 0.2 / n) \n",
    "valuesi = initializer(shape=(1319, 1600))\n",
    "valueso = initializer(shape=(1600, 206))\n",
    "\n",
    "valuesi.numpy().max(), valueso.numpy().max()"
   ]
  },
  {
   "cell_type": "code",
   "execution_count": 28,
   "metadata": {},
   "outputs": [],
   "source": [
    "def metric(y_true,y_pred):\n",
    "    metrics=[]\n",
    "    for _target in train_targets_scored.columns[1:]:\n",
    "        metrics.append(loss_fn(y_true.loc[:,_target],y_pred.loc[:,_target].astype(float)))\n",
    "        \n",
    "    return np.mean(metrics)"
   ]
  },
  {
   "cell_type": "code",
   "execution_count": 37,
   "metadata": {},
   "outputs": [
    {
     "name": "stdout",
     "output_type": "stream",
     "text": [
      "======(17559, 206)========(4389, 206)=====\n",
      "Seed: 0 => Fold: 0\n",
      "Epoch 1/5\n",
      "\n",
      "Epoch 00001: val_loss improved from inf to 0.16759, saving model to repeat:0_Fold:0.hdf5\n",
      "138/138 - 18s - loss: 0.5459 - binary_crossentropy: 0.5440 - val_loss: 0.1676 - val_binary_crossentropy: 0.1686\n",
      "Epoch 2/5\n",
      "\n",
      "Epoch 00002: val_loss improved from 0.16759 to 0.04247, saving model to repeat:0_Fold:0.hdf5\n",
      "138/138 - 17s - loss: 0.0941 - binary_crossentropy: 0.0951 - val_loss: 0.0425 - val_binary_crossentropy: 0.0442\n",
      "Epoch 3/5\n",
      "\n",
      "Epoch 00003: val_loss improved from 0.04247 to 0.02780, saving model to repeat:0_Fold:0.hdf5\n",
      "138/138 - 17s - loss: 0.0360 - binary_crossentropy: 0.0380 - val_loss: 0.0278 - val_binary_crossentropy: 0.0299\n",
      "Epoch 4/5\n",
      "\n",
      "Epoch 00004: val_loss improved from 0.02780 to 0.02305, saving model to repeat:0_Fold:0.hdf5\n",
      "138/138 - 18s - loss: 0.0265 - binary_crossentropy: 0.0288 - val_loss: 0.0230 - val_binary_crossentropy: 0.0255\n",
      "Epoch 5/5\n",
      "\n",
      "Epoch 00005: val_loss improved from 0.02305 to 0.02114, saving model to repeat:0_Fold:0.hdf5\n",
      "138/138 - 19s - loss: 0.0227 - binary_crossentropy: 0.0252 - val_loss: 0.0211 - val_binary_crossentropy: 0.0237\n",
      "Model History Saved.\n",
      "OOF Metric For SEED 0 => FOLD 0 : 0.021120157425504722\n",
      "+-+-+-+-+-+-+-+-+-+-\n",
      "======(17559, 206)========(4389, 206)=====\n",
      "Seed: 0 => Fold: 1\n",
      "Epoch 1/5\n",
      "\n",
      "Epoch 00001: val_loss improved from inf to 0.16979, saving model to repeat:0_Fold:1.hdf5\n",
      "138/138 - 18s - loss: 0.5417 - binary_crossentropy: 0.5399 - val_loss: 0.1698 - val_binary_crossentropy: 0.1707\n",
      "Epoch 2/5\n",
      "\n",
      "Epoch 00002: val_loss improved from 0.16979 to 0.04863, saving model to repeat:0_Fold:1.hdf5\n",
      "138/138 - 18s - loss: 0.0939 - binary_crossentropy: 0.0950 - val_loss: 0.0486 - val_binary_crossentropy: 0.0503\n",
      "Epoch 3/5\n",
      "\n",
      "Epoch 00003: val_loss improved from 0.04863 to 0.02852, saving model to repeat:0_Fold:1.hdf5\n",
      "138/138 - 20s - loss: 0.0360 - binary_crossentropy: 0.0380 - val_loss: 0.0285 - val_binary_crossentropy: 0.0307\n",
      "Epoch 4/5\n",
      "\n",
      "Epoch 00004: val_loss improved from 0.02852 to 0.02330, saving model to repeat:0_Fold:1.hdf5\n",
      "138/138 - 17s - loss: 0.0262 - binary_crossentropy: 0.0285 - val_loss: 0.0233 - val_binary_crossentropy: 0.0257\n",
      "Epoch 5/5\n",
      "\n",
      "Epoch 00005: val_loss improved from 0.02330 to 0.02133, saving model to repeat:0_Fold:1.hdf5\n",
      "138/138 - 18s - loss: 0.0229 - binary_crossentropy: 0.0254 - val_loss: 0.0213 - val_binary_crossentropy: 0.0239\n",
      "Model History Saved.\n",
      "OOF Metric For SEED 0 => FOLD 1 : 0.021335873576872142\n",
      "+-+-+-+-+-+-+-+-+-+-\n",
      "======(17558, 206)========(4390, 206)=====\n",
      "Seed: 0 => Fold: 2\n",
      "Epoch 1/5\n",
      "\n",
      "Epoch 00001: val_loss improved from inf to 0.17363, saving model to repeat:0_Fold:2.hdf5\n",
      "138/138 - 18s - loss: 0.5445 - binary_crossentropy: 0.5429 - val_loss: 0.1736 - val_binary_crossentropy: 0.1745\n",
      "Epoch 2/5\n",
      "\n",
      "Epoch 00002: val_loss improved from 0.17363 to 0.04098, saving model to repeat:0_Fold:2.hdf5\n",
      "138/138 - 19s - loss: 0.0939 - binary_crossentropy: 0.0950 - val_loss: 0.0410 - val_binary_crossentropy: 0.0427\n",
      "Epoch 3/5\n",
      "\n",
      "Epoch 00003: val_loss improved from 0.04098 to 0.02781, saving model to repeat:0_Fold:2.hdf5\n",
      "138/138 - 23s - loss: 0.0354 - binary_crossentropy: 0.0374 - val_loss: 0.0278 - val_binary_crossentropy: 0.0300\n",
      "Epoch 4/5\n",
      "\n",
      "Epoch 00004: val_loss improved from 0.02781 to 0.02366, saving model to repeat:0_Fold:2.hdf5\n",
      "138/138 - 18s - loss: 0.0260 - binary_crossentropy: 0.0283 - val_loss: 0.0237 - val_binary_crossentropy: 0.0261\n",
      "Epoch 5/5\n",
      "\n",
      "Epoch 00005: val_loss improved from 0.02366 to 0.02117, saving model to repeat:0_Fold:2.hdf5\n",
      "138/138 - 18s - loss: 0.0227 - binary_crossentropy: 0.0252 - val_loss: 0.0212 - val_binary_crossentropy: 0.0238\n",
      "Model History Saved.\n",
      "OOF Metric For SEED 0 => FOLD 2 : 0.021131558616681995\n",
      "+-+-+-+-+-+-+-+-+-+-\n",
      "======(17558, 206)========(4390, 206)=====\n",
      "Seed: 0 => Fold: 3\n",
      "Epoch 1/5\n",
      "\n",
      "Epoch 00001: val_loss improved from inf to 0.17791, saving model to repeat:0_Fold:3.hdf5\n",
      "138/138 - 19s - loss: 0.5439 - binary_crossentropy: 0.5421 - val_loss: 0.1779 - val_binary_crossentropy: 0.1788\n",
      "Epoch 2/5\n",
      "\n",
      "Epoch 00002: val_loss improved from 0.17791 to 0.04344, saving model to repeat:0_Fold:3.hdf5\n",
      "138/138 - 20s - loss: 0.0940 - binary_crossentropy: 0.0950 - val_loss: 0.0434 - val_binary_crossentropy: 0.0452\n",
      "Epoch 3/5\n",
      "\n",
      "Epoch 00003: val_loss improved from 0.04344 to 0.02797, saving model to repeat:0_Fold:3.hdf5\n",
      "138/138 - 20s - loss: 0.0361 - binary_crossentropy: 0.0380 - val_loss: 0.0280 - val_binary_crossentropy: 0.0301\n",
      "Epoch 4/5\n",
      "\n",
      "Epoch 00004: val_loss improved from 0.02797 to 0.02317, saving model to repeat:0_Fold:3.hdf5\n",
      "138/138 - 19s - loss: 0.0264 - binary_crossentropy: 0.0287 - val_loss: 0.0232 - val_binary_crossentropy: 0.0256\n",
      "Epoch 5/5\n",
      "\n",
      "Epoch 00005: val_loss improved from 0.02317 to 0.02096, saving model to repeat:0_Fold:3.hdf5\n",
      "138/138 - 23s - loss: 0.0232 - binary_crossentropy: 0.0258 - val_loss: 0.0210 - val_binary_crossentropy: 0.0236\n",
      "Model History Saved.\n",
      "OOF Metric For SEED 0 => FOLD 3 : 0.020924890748625174\n",
      "+-+-+-+-+-+-+-+-+-+-\n",
      "======(17558, 206)========(4390, 206)=====\n",
      "Seed: 0 => Fold: 4\n",
      "Epoch 1/5\n",
      "\n",
      "Epoch 00001: val_loss improved from inf to 0.16503, saving model to repeat:0_Fold:4.hdf5\n",
      "138/138 - 21s - loss: 0.5405 - binary_crossentropy: 0.5391 - val_loss: 0.1650 - val_binary_crossentropy: 0.1659\n",
      "Epoch 2/5\n",
      "\n",
      "Epoch 00002: val_loss improved from 0.16503 to 0.04351, saving model to repeat:0_Fold:4.hdf5\n",
      "138/138 - 20s - loss: 0.0921 - binary_crossentropy: 0.0932 - val_loss: 0.0435 - val_binary_crossentropy: 0.0452\n",
      "Epoch 3/5\n",
      "\n",
      "Epoch 00003: val_loss improved from 0.04351 to 0.02693, saving model to repeat:0_Fold:4.hdf5\n",
      "138/138 - 20s - loss: 0.0356 - binary_crossentropy: 0.0376 - val_loss: 0.0269 - val_binary_crossentropy: 0.0291\n",
      "Epoch 4/5\n",
      "\n",
      "Epoch 00004: val_loss improved from 0.02693 to 0.02293, saving model to repeat:0_Fold:4.hdf5\n",
      "138/138 - 25s - loss: 0.0261 - binary_crossentropy: 0.0284 - val_loss: 0.0229 - val_binary_crossentropy: 0.0253\n",
      "Epoch 5/5\n",
      "\n",
      "Epoch 00005: val_loss improved from 0.02293 to 0.02134, saving model to repeat:0_Fold:4.hdf5\n",
      "138/138 - 19s - loss: 0.0227 - binary_crossentropy: 0.0253 - val_loss: 0.0213 - val_binary_crossentropy: 0.0239\n",
      "Model History Saved.\n",
      "OOF Metric For SEED 0 => FOLD 4 : 0.021278924413501737\n",
      "+-+-+-+-+-+-+-+-+-+-\n"
     ]
    }
   ],
   "source": [
    "N_starts = 1\n",
    "\n",
    "train_targets = target\n",
    "res = train_targets.copy()\n",
    "\n",
    "sub.loc[:,train_targets.columns] = 0\n",
    "res.loc[:,train_targets.columns] = 0\n",
    "\n",
    "historys = dict()\n",
    "\n",
    "seed_everything(seed=42)\n",
    "\n",
    "for seed in range(N_starts):\n",
    "    for fold, (tr,te) in enumerate(MultilabelStratifiedKFold(n_splits=5\n",
    "                                                             , random_state=seed**2\n",
    "                                                             , shuffle = True).split(train_targets,train_targets)):\n",
    "        print(f\"======{train_targets.values[tr].shape}========{train_targets.values[te].shape}=====\")\n",
    "        print(f'Seed: {seed} => Fold: {fold}')\n",
    "        checkpoint_path = f'repeat:{seed}_Fold:{fold}.hdf5'\n",
    "        reduce_lr_loss = ReduceLROnPlateau(monitor='val_loss', factor=0.2, min_lr=1e-6\n",
    "                                           , patience=4, verbose=1, mode='min')\n",
    "        cb_checkpt = ModelCheckpoint(checkpoint_path, monitor = 'val_loss', verbose = 1\n",
    "                                     , save_best_only = True, save_weights_only = True\n",
    "                                     , mode = 'min')\n",
    "        early = EarlyStopping(monitor=\"val_loss\", mode=\"min\", restore_best_weights=True\n",
    "                              , patience= 10, verbose = 1)\n",
    "        model = create_model(len(top_feats), SEED=seed**2)\n",
    "        history = model.fit(train.values[tr][:, top_feats],train_targets.values[tr]\n",
    "                            ,validation_data=(train.values[te][:, top_feats], train_targets.values[te])\n",
    "                            ,epochs=5, batch_size=128,callbacks=[reduce_lr_loss, cb_checkpt, early]\n",
    "                            , verbose=2)\n",
    "        \n",
    "        historys[f'history_seed_{seed+1}_fold_{fold+1}'] = history\n",
    "        print(\"Model History Saved.\")\n",
    "        model.load_weights(checkpoint_path)\n",
    "        test_predict = model.predict(test.values[:, top_feats])\n",
    "        val_predict = model.predict(train.values[te][:, top_feats])\n",
    "        \n",
    "        sub.loc[:, train_targets.columns] += test_predict\n",
    "        res.loc[te, train_targets.columns] += val_predict\n",
    "        \n",
    "        print(f'OOF Metric For SEED {seed} => FOLD {fold} : {metric(train_targets.loc[te, train_targets.columns], pd.DataFrame(val_predict, columns=train_targets.columns))}')\n",
    "        print('+-' * 10)\n",
    "\n"
   ]
  },
  {
   "cell_type": "code",
   "execution_count": 38,
   "metadata": {},
   "outputs": [
    {
     "data": {
      "text/plain": [
       "<matplotlib.legend.Legend at 0x7f7f99b89950>"
      ]
     },
     "execution_count": 38,
     "metadata": {},
     "output_type": "execute_result"
    },
    {
     "data": {
      "image/png": "[encoded data removed]",
      "text/plain": [
       "<Figure size 1656x432 with 3 Axes>"
      ]
     },
     "metadata": {
      "needs_background": "light"
     },
     "output_type": "display_data"
    }
   ],
   "source": [
    "for k,v in historys.items():\n",
    "    loss = []\n",
    "    val_loss = []\n",
    "    loss.append(v.history['loss'][:35])\n",
    "    val_loss.append(v.history['val_loss'][:35])\n",
    "    \n",
    "# Show Model loss in plots\n",
    "for k,v in historys.items():\n",
    "    bin_loss = []\n",
    "    bin_val_loss = []\n",
    "    bin_loss.append(v.history['binary_crossentropy'][:35])\n",
    "    bin_val_loss.append(v.history['val_binary_crossentropy'][:35])\n",
    "    \n",
    "import matplotlib.pyplot as plt\n",
    "fig, ax = plt.subplots(1, 3, figsize = (23, 6))\n",
    "\n",
    "ax[0].plot(np.mean(bin_loss, axis=0), 'b', label='Smoothing Loss')\n",
    "ax[0].plot(np.mean(bin_val_loss, axis=0), 'r--', label='Smoothing Val Loss')\n",
    "ax[0].set(title=f'{somthing_rate}-Somthing Model', yscale='log', yticks=[1,1e-1,1e-2], xlabel='Epoches', ylabel='Average Logloss')\n",
    "ax[0].legend()\n",
    "\n",
    "ax[1].plot(np.mean(loss, axis=0), 'b', label='Non-Smoothing Loss')\n",
    "ax[1].plot(np.mean(val_loss, axis=0), 'g--',label='Non-Smoothing Val Loss')\n",
    "ax[1].set(title='Non-Somthing Model', yscale='log', yticks=[1,1e-1,1e-2], xlabel='Epoches', ylabel='Average Logloss')\n",
    "ax[1].legend()\n",
    "\n",
    "\n",
    "ax[2].plot(np.mean(bin_val_loss, axis=0), 'r+', label='Smoothing Val Loss')\n",
    "ax[2].plot(np.mean(val_loss, axis=0), 'g*',label='Non-Smoothing Val Loss')\n",
    "ax[2].set(title='Somthing vs Non-Somthing Model', yscale='log', xlabel='Epoches', ylabel='Average Logloss')\n",
    "ax[2].legend()"
   ]
  },
  {
   "cell_type": "code",
   "execution_count": 40,
   "metadata": {},
   "outputs": [],
   "source": [
    "sub.loc[:, train_targets.columns] /= ((fold+1) * N_starts)\n",
    "res.loc[:, train_targets.columns] /= N_starts"
   ]
  },
  {
   "cell_type": "code",
   "execution_count": 5,
   "metadata": {},
   "outputs": [],
   "source": [
    "import torch"
   ]
  },
  {
   "cell_type": "code",
   "execution_count": null,
   "metadata": {},
   "outputs": [],
   "source": []
  }
 ],
 "metadata": {
  "kernelspec": {
   "display_name": "Python 3",
   "language": "python",
   "name": "python3"
  },
  "language_info": {
   "codemirror_mode": {
    "name": "ipython",
    "version": 3
   },
   "file_extension": ".py",
   "mimetype": "text/x-python",
   "name": "python",
   "nbconvert_exporter": "python",
   "pygments_lexer": "ipython3",
   "version": "3.7.6"
  }
 },
 "nbformat": 4,
 "nbformat_minor": 4
}
